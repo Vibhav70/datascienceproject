{
 "cells": [
  {
   "cell_type": "code",
   "execution_count": 47,
   "metadata": {},
   "outputs": [],
   "source": [
    "import os\n",
    "os.environ['MLFLOW_TRACKING_URI']=\"https://dagshub.com/Vibhav70/datascienceproject.mlflow\"\n",
    "os.environ['MLFLOW_TRACKING_USERNAME'] = \"Vibhav70\"\n",
    "os.environ['MLFLOW_TRACKING_PASSWORD'] = \"e50e1763a73241764ceb88f8ae29a61a39843fa3\""
   ]
  },
  {
   "cell_type": "code",
   "execution_count": 48,
   "metadata": {},
   "outputs": [
    {
     "data": {
      "text/plain": [
       "'D:\\\\mlops\\\\datascienceproject'"
      ]
     },
     "execution_count": 48,
     "metadata": {},
     "output_type": "execute_result"
    }
   ],
   "source": [
    "import os\n",
    "os.chdir(\"D:\\mlops\\datascienceproject\")\n",
    "%pwd"
   ]
  },
  {
   "cell_type": "code",
   "execution_count": 49,
   "metadata": {},
   "outputs": [],
   "source": [
    "from dataclasses import dataclass\n",
    "from pathlib import Path\n",
    "\n",
    "@dataclass\n",
    "class ModelEvaluationConfig:\n",
    "    root_dir: Path\n",
    "    test_data_path: Path\n",
    "    model_path: Path\n",
    "    all_params: dict\n",
    "    metric_file_name: Path\n",
    "    target_column: str\n",
    "    mlflow_uri: str"
   ]
  },
  {
   "cell_type": "code",
   "execution_count": 50,
   "metadata": {},
   "outputs": [],
   "source": [
    "from src.datascience.constants import *\n",
    "from src.datascience.utils.common import *"
   ]
  },
  {
   "cell_type": "code",
   "execution_count": 51,
   "metadata": {},
   "outputs": [],
   "source": [
    "# this goes in configs/configuration manager\n",
    "class ConfigurationManager:\n",
    "    def __init__(self,\n",
    "                 config_filepath=CONFIG_FILE_PATH,\n",
    "                 params_filepath=PARAMS_FILE_PATH,\n",
    "                 schema_filepath=SCHEMA_FILE_PATH):\n",
    "        self.config=read_yaml(config_filepath)\n",
    "        self.params=read_yaml(params_filepath)\n",
    "        self.schema=read_yaml(schema_filepath)\n",
    "\n",
    "        create_directories([self.config.artifacts_root])\n",
    "\n",
    "    def get_model_evaluation_config(self)-> ModelEvaluationConfig:\n",
    "        config=self.config.model_evaluataion\n",
    "        params=self.params.ElasticNet\n",
    "        schema=self.schema.TARGET_COLUMN\n",
    "\n",
    "        create_directories([config.root_dir])\n",
    "\n",
    "        model_evaluation_config=ModelEvaluationConfig(\n",
    "            root_dir=config.root_dir,\n",
    "            test_data_path=config.test_data_path,\n",
    "            model_path=config.model_path,\n",
    "            all_params=params,\n",
    "            metric_file_name = config.metric_file_name,\n",
    "            target_column= schema.name,\n",
    "            mlflow_uri=\"https://dagshub.com/Vibhav70/datascienceproject.mlflow\"\n",
    "        )\n",
    "        return model_evaluation_config\n"
   ]
  },
  {
   "cell_type": "code",
   "execution_count": 52,
   "metadata": {},
   "outputs": [],
   "source": [
    "import os\n",
    "import pandas as pd\n",
    "from sklearn.metrics import mean_squared_error, mean_absolute_error, r2_score\n",
    "from urllib.parse import urlparse\n",
    "import mlflow\n",
    "import mlflow.sklearn\n",
    "import numpy as np\n",
    "import joblib"
   ]
  },
  {
   "cell_type": "code",
   "execution_count": 53,
   "metadata": {},
   "outputs": [],
   "source": [
    "class ModelEvaluation:\n",
    "    def __init__(self, config: ModelEvaluationConfig):\n",
    "        self.config = config\n",
    "        \n",
    "    def eval_metrics(self,actual,pred):\n",
    "        rmse = np.sqrt(mean_squared_error(actual,pred))\n",
    "        mae = mean_absolute_error(actual,pred)\n",
    "        r2 = r2_score(actual,pred)\n",
    "        return rmse,mae, r2\n",
    "    \n",
    "    def log_into_mlfow(self):\n",
    "\n",
    "        test_data = pd.read_csv(self.config.test_data_path)\n",
    "        model = joblib.load(self.config.model_path)\n",
    "\n",
    "        test_x = test_data.drop([self.config.target_column], axis=1)\n",
    "        test_y = test_data[[self.config.target_column]]\n",
    "\n",
    "        mlflow.set_registry_uri(self.config.mlflow_uri)\n",
    "        tracking_url_type_store = urlparse(mlflow.get_tracking_uri()).scheme\n",
    "        print(tracking_url_type_store)\n",
    "\n",
    "        with mlflow.start_run():\n",
    "            predicted_qualities = model.predict(test_x)\n",
    "\n",
    "            (rmse,mae,r2) = self.eval_metrics(test_y, predicted_qualities)\n",
    "\n",
    "            #saving metrics as local\n",
    "            scores = {\"rmse\": rmse, \"mae\":mae, \"r2\":r2}\n",
    "            save_json(path=Path(self.config.metric_file_name),data=scores)\n",
    "            \n",
    "            mlflow.log_params(self.config.all_params)\n",
    "\n",
    "            mlflow.log_metric(\"rmse\",rmse)\n",
    "            mlflow.log_metric(\"mae\",mae)\n",
    "            mlflow.log_metric(\"r2\",r2)\n",
    "\n",
    "            #Model registry does not work with file dtore\n",
    "            if tracking_url_type_store!=\"file\":\n",
    "                mlflow.sklearn.log_model(model,\"model\",registered_model_name=\"elasticnet\")\n",
    "            else:\n",
    "                mlflow.sklearn.log_model(model,\"model\")\n",
    "\n",
    "            \n"
   ]
  },
  {
   "cell_type": "code",
   "execution_count": null,
   "metadata": {},
   "outputs": [],
   "source": []
  },
  {
   "cell_type": "code",
   "execution_count": 54,
   "metadata": {},
   "outputs": [
    {
     "name": "stdout",
     "output_type": "stream",
     "text": [
      "[2025-01-02 20:08:04,775: INFO: yaml file: config\\config.yaml loaded successfully]\n",
      "[2025-01-02 20:08:04,777: INFO: yaml file: params.yaml loaded successfully]\n",
      "[2025-01-02 20:08:04,777: INFO: yaml file: schema.yaml loaded successfully]\n",
      "[2025-01-02 20:08:04,777: INFO: created directory at:artifacts]\n",
      "[2025-01-02 20:08:04,783: INFO: created directory at:artifacts/model_evaluation]\n",
      "https\n",
      "[2025-01-02 20:08:05,346: INFO: json file saved at artifacts\\model_evaluation\\metrics.json]\n"
     ]
    },
    {
     "name": "stderr",
     "output_type": "stream",
     "text": [
      "2025/01/02 20:08:10 WARNING mlflow.models.model: Model logged without a signature and input example. Please set `input_example` parameter when logging the model to auto infer the model signature.\n",
      "Successfully registered model 'elasticnet'.\n",
      "2025/01/02 20:08:15 INFO mlflow.store.model_registry.abstract_store: Waiting up to 300 seconds for model version to finish creation. Model name: elasticnet, version 1\n",
      "Created version '1' of model 'elasticnet'.\n"
     ]
    },
    {
     "name": "stdout",
     "output_type": "stream",
     "text": [
      "🏃 View run adventurous-elk-483 at: https://dagshub.com/Vibhav70/datascienceproject.mlflow/#/experiments/0/runs/7e83b7ae13544263b86ec015122b32c4\n",
      "🧪 View experiment at: https://dagshub.com/Vibhav70/datascienceproject.mlflow/#/experiments/0\n"
     ]
    }
   ],
   "source": [
    "\n",
    "try:\n",
    "    config=ConfigurationManager()\n",
    "    model_evaluation_config = config.get_model_evaluation_config()\n",
    "    model_evaluation1 = ModelEvaluation(config=model_evaluation_config)\n",
    "    model_evaluation1.log_into_mlfow()\n",
    "except Exception as e:\n",
    "    raise e"
   ]
  },
  {
   "cell_type": "code",
   "execution_count": null,
   "metadata": {},
   "outputs": [],
   "source": []
  },
  {
   "cell_type": "code",
   "execution_count": null,
   "metadata": {},
   "outputs": [],
   "source": []
  },
  {
   "cell_type": "code",
   "execution_count": null,
   "metadata": {},
   "outputs": [],
   "source": []
  },
  {
   "cell_type": "code",
   "execution_count": null,
   "metadata": {},
   "outputs": [],
   "source": []
  },
  {
   "cell_type": "code",
   "execution_count": null,
   "metadata": {},
   "outputs": [],
   "source": []
  },
  {
   "cell_type": "code",
   "execution_count": null,
   "metadata": {},
   "outputs": [],
   "source": []
  },
  {
   "cell_type": "code",
   "execution_count": null,
   "metadata": {},
   "outputs": [],
   "source": []
  }
 ],
 "metadata": {
  "kernelspec": {
   "display_name": "venv",
   "language": "python",
   "name": "python3"
  },
  "language_info": {
   "codemirror_mode": {
    "name": "ipython",
    "version": 3
   },
   "file_extension": ".py",
   "mimetype": "text/x-python",
   "name": "python",
   "nbconvert_exporter": "python",
   "pygments_lexer": "ipython3",
   "version": "3.11.1"
  }
 },
 "nbformat": 4,
 "nbformat_minor": 2
}
